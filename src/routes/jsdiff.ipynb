{
 "cells": [
  {
   "cell_type": "code",
   "execution_count": 13,
   "metadata": {},
   "outputs": [
    {
     "name": "stdout",
     "output_type": "stream",
     "text": [
      "  a man\n",
      "\n",
      "- a handsaw\n",
      "+ a canal\n",
      "  \n",
      "a plan\n",
      "\n",
      "- panamaX\n",
      "+ panama\n"
     ]
    }
   ],
   "source": [
    "// const Diff = require('diff');\n",
    "import * as Diff from 'npm:diff';\n",
    "\n",
    "const oldText = `a man\n",
    "a handsaw\n",
    "a plan\n",
    "panamaX`;\n",
    "\n",
    "const newText = `a man\n",
    "a canal\n",
    "a plan\n",
    "panama`;\n",
    "\n",
    "const diff = Diff.diffLines(oldText, newText, { newlineIsToken: true });\n",
    "\n",
    "diff.forEach((part) => {\n",
    "    const symbol = part.added ? '+' : part.removed ? '-' : ' ';\n",
    "    // process.stdout.write(`${symbol} ${part.value}`);\n",
    "    console.log(`${symbol} ${part.value}`);\n",
    "});\n"
   ]
  }
 ],
 "metadata": {
  "kernelspec": {
   "display_name": "Deno",
   "language": "typescript",
   "name": "deno"
  },
  "language_info": {
   "codemirror_mode": "typescript",
   "file_extension": ".ts",
   "mimetype": "text/x.typescript",
   "name": "typescript",
   "nbconvert_exporter": "script",
   "pygments_lexer": "typescript",
   "version": "5.5.2"
  }
 },
 "nbformat": 4,
 "nbformat_minor": 2
}
